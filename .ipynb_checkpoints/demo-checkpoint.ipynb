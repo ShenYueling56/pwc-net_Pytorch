{
 "cells": [
  {
   "cell_type": "code",
   "execution_count": 1,
   "metadata": {},
   "outputs": [
    {
     "name": "stderr",
     "output_type": "stream",
     "text": [
      "/home/yongzhang/anaconda2/lib/python2.7/site-packages/pkg_resources/__init__.py:1243: UserWarning: tmp/ is writable by group/others and vulnerable to attack when used with get_resource_filename. Consider a more secure location (set with .set_extraction_path or the PYTHON_EGG_CACHE environment variable).\n",
      "  warnings.warn(msg, UserWarning)\n"
     ]
    }
   ],
   "source": [
    "import sys\n",
    "import cv2\n",
    "import torch\n",
    "import numpy as np\n",
    "from math import ceil\n",
    "from torch.autograd import Variable\n",
    "# from scipy.ndimage import imread\n",
    "import matplotlib.pyplot as plt\n",
    "import models\n",
    "import PIL.Image as Image"
   ]
  },
  {
   "cell_type": "code",
   "execution_count": 2,
   "metadata": {},
   "outputs": [
    {
     "name": "stderr",
     "output_type": "stream",
     "text": [
      "models/PWCNet.py:134: UserWarning: nn.init.kaiming_normal is now deprecated in favor of nn.init.kaiming_normal_.\n",
      "  nn.init.kaiming_normal(m.weight.data, mode='fan_in')\n"
     ]
    },
    {
     "data": {
      "text/plain": [
       "PWCDCNet(\n",
       "  (conv1a): Sequential(\n",
       "    (0): Conv2d(3, 16, kernel_size=(3, 3), stride=(2, 2), padding=(1, 1))\n",
       "    (1): LeakyReLU(negative_slope=0.1)\n",
       "  )\n",
       "  (conv1aa): Sequential(\n",
       "    (0): Conv2d(16, 16, kernel_size=(3, 3), stride=(1, 1), padding=(1, 1))\n",
       "    (1): LeakyReLU(negative_slope=0.1)\n",
       "  )\n",
       "  (conv1b): Sequential(\n",
       "    (0): Conv2d(16, 16, kernel_size=(3, 3), stride=(1, 1), padding=(1, 1))\n",
       "    (1): LeakyReLU(negative_slope=0.1)\n",
       "  )\n",
       "  (conv2a): Sequential(\n",
       "    (0): Conv2d(16, 32, kernel_size=(3, 3), stride=(2, 2), padding=(1, 1))\n",
       "    (1): LeakyReLU(negative_slope=0.1)\n",
       "  )\n",
       "  (conv2aa): Sequential(\n",
       "    (0): Conv2d(32, 32, kernel_size=(3, 3), stride=(1, 1), padding=(1, 1))\n",
       "    (1): LeakyReLU(negative_slope=0.1)\n",
       "  )\n",
       "  (conv2b): Sequential(\n",
       "    (0): Conv2d(32, 32, kernel_size=(3, 3), stride=(1, 1), padding=(1, 1))\n",
       "    (1): LeakyReLU(negative_slope=0.1)\n",
       "  )\n",
       "  (conv3a): Sequential(\n",
       "    (0): Conv2d(32, 64, kernel_size=(3, 3), stride=(2, 2), padding=(1, 1))\n",
       "    (1): LeakyReLU(negative_slope=0.1)\n",
       "  )\n",
       "  (conv3aa): Sequential(\n",
       "    (0): Conv2d(64, 64, kernel_size=(3, 3), stride=(1, 1), padding=(1, 1))\n",
       "    (1): LeakyReLU(negative_slope=0.1)\n",
       "  )\n",
       "  (conv3b): Sequential(\n",
       "    (0): Conv2d(64, 64, kernel_size=(3, 3), stride=(1, 1), padding=(1, 1))\n",
       "    (1): LeakyReLU(negative_slope=0.1)\n",
       "  )\n",
       "  (conv4a): Sequential(\n",
       "    (0): Conv2d(64, 96, kernel_size=(3, 3), stride=(2, 2), padding=(1, 1))\n",
       "    (1): LeakyReLU(negative_slope=0.1)\n",
       "  )\n",
       "  (conv4aa): Sequential(\n",
       "    (0): Conv2d(96, 96, kernel_size=(3, 3), stride=(1, 1), padding=(1, 1))\n",
       "    (1): LeakyReLU(negative_slope=0.1)\n",
       "  )\n",
       "  (conv4b): Sequential(\n",
       "    (0): Conv2d(96, 96, kernel_size=(3, 3), stride=(1, 1), padding=(1, 1))\n",
       "    (1): LeakyReLU(negative_slope=0.1)\n",
       "  )\n",
       "  (conv5a): Sequential(\n",
       "    (0): Conv2d(96, 128, kernel_size=(3, 3), stride=(2, 2), padding=(1, 1))\n",
       "    (1): LeakyReLU(negative_slope=0.1)\n",
       "  )\n",
       "  (conv5aa): Sequential(\n",
       "    (0): Conv2d(128, 128, kernel_size=(3, 3), stride=(1, 1), padding=(1, 1))\n",
       "    (1): LeakyReLU(negative_slope=0.1)\n",
       "  )\n",
       "  (conv5b): Sequential(\n",
       "    (0): Conv2d(128, 128, kernel_size=(3, 3), stride=(1, 1), padding=(1, 1))\n",
       "    (1): LeakyReLU(negative_slope=0.1)\n",
       "  )\n",
       "  (conv6aa): Sequential(\n",
       "    (0): Conv2d(128, 196, kernel_size=(3, 3), stride=(2, 2), padding=(1, 1))\n",
       "    (1): LeakyReLU(negative_slope=0.1)\n",
       "  )\n",
       "  (conv6a): Sequential(\n",
       "    (0): Conv2d(196, 196, kernel_size=(3, 3), stride=(1, 1), padding=(1, 1))\n",
       "    (1): LeakyReLU(negative_slope=0.1)\n",
       "  )\n",
       "  (conv6b): Sequential(\n",
       "    (0): Conv2d(196, 196, kernel_size=(3, 3), stride=(1, 1), padding=(1, 1))\n",
       "    (1): LeakyReLU(negative_slope=0.1)\n",
       "  )\n",
       "  (corr): Correlation()\n",
       "  (leakyRELU): LeakyReLU(negative_slope=0.1)\n",
       "  (conv6_0): Sequential(\n",
       "    (0): Conv2d(81, 128, kernel_size=(3, 3), stride=(1, 1), padding=(1, 1))\n",
       "    (1): LeakyReLU(negative_slope=0.1)\n",
       "  )\n",
       "  (conv6_1): Sequential(\n",
       "    (0): Conv2d(209, 128, kernel_size=(3, 3), stride=(1, 1), padding=(1, 1))\n",
       "    (1): LeakyReLU(negative_slope=0.1)\n",
       "  )\n",
       "  (conv6_2): Sequential(\n",
       "    (0): Conv2d(337, 96, kernel_size=(3, 3), stride=(1, 1), padding=(1, 1))\n",
       "    (1): LeakyReLU(negative_slope=0.1)\n",
       "  )\n",
       "  (conv6_3): Sequential(\n",
       "    (0): Conv2d(433, 64, kernel_size=(3, 3), stride=(1, 1), padding=(1, 1))\n",
       "    (1): LeakyReLU(negative_slope=0.1)\n",
       "  )\n",
       "  (conv6_4): Sequential(\n",
       "    (0): Conv2d(497, 32, kernel_size=(3, 3), stride=(1, 1), padding=(1, 1))\n",
       "    (1): LeakyReLU(negative_slope=0.1)\n",
       "  )\n",
       "  (predict_flow6): Conv2d(529, 2, kernel_size=(3, 3), stride=(1, 1), padding=(1, 1))\n",
       "  (deconv6): ConvTranspose2d(2, 2, kernel_size=(4, 4), stride=(2, 2), padding=(1, 1))\n",
       "  (upfeat6): ConvTranspose2d(529, 2, kernel_size=(4, 4), stride=(2, 2), padding=(1, 1))\n",
       "  (conv5_0): Sequential(\n",
       "    (0): Conv2d(213, 128, kernel_size=(3, 3), stride=(1, 1), padding=(1, 1))\n",
       "    (1): LeakyReLU(negative_slope=0.1)\n",
       "  )\n",
       "  (conv5_1): Sequential(\n",
       "    (0): Conv2d(341, 128, kernel_size=(3, 3), stride=(1, 1), padding=(1, 1))\n",
       "    (1): LeakyReLU(negative_slope=0.1)\n",
       "  )\n",
       "  (conv5_2): Sequential(\n",
       "    (0): Conv2d(469, 96, kernel_size=(3, 3), stride=(1, 1), padding=(1, 1))\n",
       "    (1): LeakyReLU(negative_slope=0.1)\n",
       "  )\n",
       "  (conv5_3): Sequential(\n",
       "    (0): Conv2d(565, 64, kernel_size=(3, 3), stride=(1, 1), padding=(1, 1))\n",
       "    (1): LeakyReLU(negative_slope=0.1)\n",
       "  )\n",
       "  (conv5_4): Sequential(\n",
       "    (0): Conv2d(629, 32, kernel_size=(3, 3), stride=(1, 1), padding=(1, 1))\n",
       "    (1): LeakyReLU(negative_slope=0.1)\n",
       "  )\n",
       "  (predict_flow5): Conv2d(661, 2, kernel_size=(3, 3), stride=(1, 1), padding=(1, 1))\n",
       "  (deconv5): ConvTranspose2d(2, 2, kernel_size=(4, 4), stride=(2, 2), padding=(1, 1))\n",
       "  (upfeat5): ConvTranspose2d(661, 2, kernel_size=(4, 4), stride=(2, 2), padding=(1, 1))\n",
       "  (conv4_0): Sequential(\n",
       "    (0): Conv2d(181, 128, kernel_size=(3, 3), stride=(1, 1), padding=(1, 1))\n",
       "    (1): LeakyReLU(negative_slope=0.1)\n",
       "  )\n",
       "  (conv4_1): Sequential(\n",
       "    (0): Conv2d(309, 128, kernel_size=(3, 3), stride=(1, 1), padding=(1, 1))\n",
       "    (1): LeakyReLU(negative_slope=0.1)\n",
       "  )\n",
       "  (conv4_2): Sequential(\n",
       "    (0): Conv2d(437, 96, kernel_size=(3, 3), stride=(1, 1), padding=(1, 1))\n",
       "    (1): LeakyReLU(negative_slope=0.1)\n",
       "  )\n",
       "  (conv4_3): Sequential(\n",
       "    (0): Conv2d(533, 64, kernel_size=(3, 3), stride=(1, 1), padding=(1, 1))\n",
       "    (1): LeakyReLU(negative_slope=0.1)\n",
       "  )\n",
       "  (conv4_4): Sequential(\n",
       "    (0): Conv2d(597, 32, kernel_size=(3, 3), stride=(1, 1), padding=(1, 1))\n",
       "    (1): LeakyReLU(negative_slope=0.1)\n",
       "  )\n",
       "  (predict_flow4): Conv2d(629, 2, kernel_size=(3, 3), stride=(1, 1), padding=(1, 1))\n",
       "  (deconv4): ConvTranspose2d(2, 2, kernel_size=(4, 4), stride=(2, 2), padding=(1, 1))\n",
       "  (upfeat4): ConvTranspose2d(629, 2, kernel_size=(4, 4), stride=(2, 2), padding=(1, 1))\n",
       "  (conv3_0): Sequential(\n",
       "    (0): Conv2d(149, 128, kernel_size=(3, 3), stride=(1, 1), padding=(1, 1))\n",
       "    (1): LeakyReLU(negative_slope=0.1)\n",
       "  )\n",
       "  (conv3_1): Sequential(\n",
       "    (0): Conv2d(277, 128, kernel_size=(3, 3), stride=(1, 1), padding=(1, 1))\n",
       "    (1): LeakyReLU(negative_slope=0.1)\n",
       "  )\n",
       "  (conv3_2): Sequential(\n",
       "    (0): Conv2d(405, 96, kernel_size=(3, 3), stride=(1, 1), padding=(1, 1))\n",
       "    (1): LeakyReLU(negative_slope=0.1)\n",
       "  )\n",
       "  (conv3_3): Sequential(\n",
       "    (0): Conv2d(501, 64, kernel_size=(3, 3), stride=(1, 1), padding=(1, 1))\n",
       "    (1): LeakyReLU(negative_slope=0.1)\n",
       "  )\n",
       "  (conv3_4): Sequential(\n",
       "    (0): Conv2d(565, 32, kernel_size=(3, 3), stride=(1, 1), padding=(1, 1))\n",
       "    (1): LeakyReLU(negative_slope=0.1)\n",
       "  )\n",
       "  (predict_flow3): Conv2d(597, 2, kernel_size=(3, 3), stride=(1, 1), padding=(1, 1))\n",
       "  (deconv3): ConvTranspose2d(2, 2, kernel_size=(4, 4), stride=(2, 2), padding=(1, 1))\n",
       "  (upfeat3): ConvTranspose2d(597, 2, kernel_size=(4, 4), stride=(2, 2), padding=(1, 1))\n",
       "  (conv2_0): Sequential(\n",
       "    (0): Conv2d(117, 128, kernel_size=(3, 3), stride=(1, 1), padding=(1, 1))\n",
       "    (1): LeakyReLU(negative_slope=0.1)\n",
       "  )\n",
       "  (conv2_1): Sequential(\n",
       "    (0): Conv2d(245, 128, kernel_size=(3, 3), stride=(1, 1), padding=(1, 1))\n",
       "    (1): LeakyReLU(negative_slope=0.1)\n",
       "  )\n",
       "  (conv2_2): Sequential(\n",
       "    (0): Conv2d(373, 96, kernel_size=(3, 3), stride=(1, 1), padding=(1, 1))\n",
       "    (1): LeakyReLU(negative_slope=0.1)\n",
       "  )\n",
       "  (conv2_3): Sequential(\n",
       "    (0): Conv2d(469, 64, kernel_size=(3, 3), stride=(1, 1), padding=(1, 1))\n",
       "    (1): LeakyReLU(negative_slope=0.1)\n",
       "  )\n",
       "  (conv2_4): Sequential(\n",
       "    (0): Conv2d(533, 32, kernel_size=(3, 3), stride=(1, 1), padding=(1, 1))\n",
       "    (1): LeakyReLU(negative_slope=0.1)\n",
       "  )\n",
       "  (predict_flow2): Conv2d(565, 2, kernel_size=(3, 3), stride=(1, 1), padding=(1, 1))\n",
       "  (deconv2): ConvTranspose2d(2, 2, kernel_size=(4, 4), stride=(2, 2), padding=(1, 1))\n",
       "  (dc_conv1): Sequential(\n",
       "    (0): Conv2d(565, 128, kernel_size=(3, 3), stride=(1, 1), padding=(1, 1))\n",
       "    (1): LeakyReLU(negative_slope=0.1)\n",
       "  )\n",
       "  (dc_conv2): Sequential(\n",
       "    (0): Conv2d(128, 128, kernel_size=(3, 3), stride=(1, 1), padding=(2, 2), dilation=(2, 2))\n",
       "    (1): LeakyReLU(negative_slope=0.1)\n",
       "  )\n",
       "  (dc_conv3): Sequential(\n",
       "    (0): Conv2d(128, 128, kernel_size=(3, 3), stride=(1, 1), padding=(4, 4), dilation=(4, 4))\n",
       "    (1): LeakyReLU(negative_slope=0.1)\n",
       "  )\n",
       "  (dc_conv4): Sequential(\n",
       "    (0): Conv2d(128, 96, kernel_size=(3, 3), stride=(1, 1), padding=(8, 8), dilation=(8, 8))\n",
       "    (1): LeakyReLU(negative_slope=0.1)\n",
       "  )\n",
       "  (dc_conv5): Sequential(\n",
       "    (0): Conv2d(96, 64, kernel_size=(3, 3), stride=(1, 1), padding=(16, 16), dilation=(16, 16))\n",
       "    (1): LeakyReLU(negative_slope=0.1)\n",
       "  )\n",
       "  (dc_conv6): Sequential(\n",
       "    (0): Conv2d(64, 32, kernel_size=(3, 3), stride=(1, 1), padding=(1, 1))\n",
       "    (1): LeakyReLU(negative_slope=0.1)\n",
       "  )\n",
       "  (dc_conv7): Conv2d(32, 2, kernel_size=(3, 3), stride=(1, 1), padding=(1, 1))\n",
       ")"
      ]
     },
     "execution_count": 2,
     "metadata": {},
     "output_type": "execute_result"
    }
   ],
   "source": [
    "def writeFlowFile(filename,uv):\n",
    "    TAG_STRING = np.array(202021.25, dtype=np.float32)\n",
    "    if uv.shape[2] != 2:\n",
    "        sys.exit(\"writeFlowFile: flow must have two bands!\");\n",
    "    H = np.array(uv.shape[0], dtype=np.int32)\n",
    "    W = np.array(uv.shape[1], dtype=np.int32)\n",
    "    with open(filename, 'wb') as f:\n",
    "        f.write(TAG_STRING.tobytes())\n",
    "        f.write(W.tobytes())\n",
    "        f.write(H.tobytes())\n",
    "        f.write(uv.tobytes())\n",
    "        \n",
    "def draw_flow(img, flow, step=16):\n",
    "    h, w = img.shape[:2]\n",
    "    y, x = np.mgrid[step/2:h:step, step/2:w:step].reshape(2,-1).astype(int)\n",
    "    fx, fy = flow[y,x].T\n",
    "    lines = np.vstack([x, y, x+fx, y+fy]).T.reshape(-1, 2, 2)\n",
    "    lines = np.int32(lines + 0.5)\n",
    "    vis = cv.cvtColor(img, cv.COLOR_GRAY2BGR)\n",
    "    cv.polylines(vis, lines, 0, (0, 255, 0))\n",
    "    for (x1, y1), (_x2, _y2) in lines:\n",
    "        cv.circle(vis, (x1, y1), 1, (0, 255, 0), -1)\n",
    "    return vis\n",
    "\n",
    "def flow2rgb(flow_map_np, max_value=None):\n",
    "    _, h, w = flow_map_np.shape\n",
    "    hsv = np.ones((h,w,3), dtype=np.uint8)\n",
    "    hsv[..., 1] = 255\n",
    "    mag, ang = cv2.cartToPolar(flow_map_np[0].squeeze(), flow_map_np[1].squeeze())\n",
    "    hsv[..., 0] = ang / (2 * np.pi) * 180\n",
    "    hsv[..., 2] = cv2.normalize(mag, None, 0, 255, cv2.NORM_MINMAX)\n",
    "    rgb = cv2.cvtColor(hsv, cv2.COLOR_HSV2RGB)\n",
    "    return rgb\n",
    "\n",
    "\n",
    "# pwc_model_fn = './pwc_net_chairs.pth.tar'\n",
    "pwc_model_fn = 'pwc_net.pth.tar'\n",
    "\n",
    "net = models.pwc_dc_net(pwc_model_fn)\n",
    "net = net.cuda()\n",
    "net.eval()"
   ]
  },
  {
   "cell_type": "code",
   "execution_count": 11,
   "metadata": {},
   "outputs": [
    {
     "data": {
      "text/plain": [
       "<matplotlib.image.AxesImage at 0x7fbd442a61d0>"
      ]
     },
     "execution_count": 11,
     "metadata": {},
     "output_type": "execute_result"
    },
    {
     "data": {
      "image/png": "[encoded data removed]",
      "text/plain": [
       "<Figure size 432x288 with 1 Axes>"
      ]
     },
     "metadata": {
      "needs_background": "light"
     },
     "output_type": "display_data"
    }
   ],
   "source": [
    "im1_fn = './data/input5_1.jpg'\n",
    "im2_fn = './data/input5_2.jpg'\n",
    "flow_fn = './tmp/frame_0010.flo'\n",
    "\n",
    "im_all = [plt.imread(img) for img in [im1_fn, im2_fn]]\n",
    "im_all = [im[:, :, :3] for im in im_all]\n",
    "\n",
    "# rescale the image size to be multiples of 64\n",
    "divisor = 64.\n",
    "H = im_all[0].shape[0]\n",
    "W = im_all[0].shape[1]\n",
    "\n",
    "H_ = int(ceil(H/divisor) * divisor)\n",
    "W_ = int(ceil(W/divisor) * divisor)\n",
    "for i in range(len(im_all)):\n",
    "    im_all[i] = cv2.resize(im_all[i], (W_, H_))\n",
    "\n",
    "for _i, _inputs in enumerate(im_all):\n",
    "    im_all[_i] = im_all[_i][:, :, ::-1]\n",
    "    im_all[_i] = 1.0 * im_all[_i]/255.0\n",
    "\n",
    "    im_all[_i] = np.transpose(im_all[_i], (2, 0, 1))\n",
    "    im_all[_i] = torch.from_numpy(im_all[_i])\n",
    "    im_all[_i] = im_all[_i].expand(1, im_all[_i].size()[0], im_all[_i].size()[1], im_all[_i].size()[2])\t\n",
    "    im_all[_i] = im_all[_i].float()\n",
    "    \n",
    "im_all = torch.cat(im_all,1).cuda()\n",
    "\n",
    "flo = net(im_all)\n",
    "flo = flo[0]\n",
    "flo = flo.cpu().data.numpy()\n",
    "\n",
    "# import ipdb; ipdb.set_trace()\n",
    "rgb_flow = flow2rgb(flo)\n",
    "# Image.fromarray(rgb_flow, 'RGB').show()\n",
    "# imwrite(filename + '.png', to_save)\n",
    "plt.imshow(rgb_flow)"
   ]
  },
  {
   "cell_type": "code",
   "execution_count": 12,
   "metadata": {},
   "outputs": [
    {
     "data": {
      "text/plain": [
       "<matplotlib.image.AxesImage at 0x7fbd441f6d90>"
      ]
     },
     "execution_count": 12,
     "metadata": {},
     "output_type": "execute_result"
    },
    {
     "data": {
      "image/png": "[encoded data removed]",
      "text/plain": [
       "<Figure size 432x288 with 1 Axes>"
      ]
     },
     "metadata": {
      "needs_background": "light"
     },
     "output_type": "display_data"
    }
   ],
   "source": [
    "image = plt.imread(im2_fn)\n",
    "plt.imshow(image)"
   ]
  },
  {
   "cell_type": "code",
   "execution_count": 5,
   "metadata": {},
   "outputs": [],
   "source": [
    "# draw_flow(image, flo)\n",
    "step = 4\n",
    "img  = image[::4,::4,:]\n",
    "h, w = img.shape[:2]\n",
    "y, x = np.mgrid[step/2:h:step, step/2:w:step].reshape(2,-1).astype(int)\n",
    "fx, fy = flo.transpose(1,2,0)[y,x].T * 10\n",
    "lines = np.vstack([x, y, x+fx, y+fy]).T.reshape(-1, 2, 2)\n",
    "lines = np.int32(lines + 0.5)\n",
    "vis = cv2.cvtColor(img, cv2.COLOR_RGB2BGR)\n",
    "cv2.polylines(vis, lines, 0, (0, 255, 0))\n",
    "for (x1, y1), (_x2, _y2) in lines:\n",
    "    cv2.circle(vis, (x1, y1), 1, (0, 255, 0), -1)"
   ]
  },
  {
   "cell_type": "code",
   "execution_count": 6,
   "metadata": {},
   "outputs": [],
   "source": [
    "vis = cv2.cvtColor(img, cv2.COLOR_RGB2BGR)"
   ]
  },
  {
   "cell_type": "code",
   "execution_count": 7,
   "metadata": {},
   "outputs": [
    {
     "data": {
      "text/plain": [
       "numpy.ndarray"
      ]
     },
     "execution_count": 7,
     "metadata": {},
     "output_type": "execute_result"
    }
   ],
   "source": [
    "type(vis)"
   ]
  },
  {
   "cell_type": "code",
   "execution_count": 8,
   "metadata": {},
   "outputs": [
    {
     "data": {
      "text/plain": [
       "numpy.ndarray"
      ]
     },
     "execution_count": 8,
     "metadata": {},
     "output_type": "execute_result"
    }
   ],
   "source": [
    "type(img)"
   ]
  },
  {
   "cell_type": "code",
   "execution_count": 9,
   "metadata": {},
   "outputs": [
    {
     "data": {
      "text/plain": [
       "torch.Size([1, 6, 64, 64])"
      ]
     },
     "execution_count": 9,
     "metadata": {},
     "output_type": "execute_result"
    }
   ],
   "source": [
    "im_all.shape"
   ]
  },
  {
   "cell_type": "code",
   "execution_count": null,
   "metadata": {},
   "outputs": [],
   "source": []
  }
 ],
 "metadata": {
  "kernelspec": {
   "display_name": "Python 2",
   "language": "python",
   "name": "python2"
  },
  "language_info": {
   "codemirror_mode": {
    "name": "ipython",
    "version": 2
   },
   "file_extension": ".py",
   "mimetype": "text/x-python",
   "name": "python",
   "nbconvert_exporter": "python",
   "pygments_lexer": "ipython2",
   "version": "2.7.16"
  }
 },
 "nbformat": 4,
 "nbformat_minor": 2
}
